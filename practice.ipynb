{
 "cells": [
  {
   "cell_type": "code",
   "execution_count": 15,
   "metadata": {},
   "outputs": [
    {
     "data": {
      "image/png": "[encoded data removed]",
      "text/plain": [
       "<Figure size 432x288 with 2 Axes>"
      ]
     },
     "metadata": {
      "needs_background": "light"
     },
     "output_type": "display_data"
    }
   ],
   "source": [
    "# Python program to illustrate \n",
    "# foreground extraction using \n",
    "# GrabCut algorithm \n",
    "\n",
    "# organize imports \n",
    "import numpy as np \n",
    "import cv2 \n",
    "from matplotlib import pyplot as plt \n",
    "\n",
    "# path to input image specified and \n",
    "# image is loaded with imread command \n",
    "image = cv2.imread('my.jpg') \n",
    "\n",
    "# create a simple mask image similar \n",
    "# to the loaded image, with the \n",
    "# shape and return type \n",
    "#mask = np.zeros(image.shape[:2], np.uint8) \n",
    "mask = np.zeros(image.shape[:2], np.uint8) \n",
    "\n",
    "# specify the background and foreground model \n",
    "# using numpy the array is constructed of 1 row \n",
    "# and 65 columns, and all array elements are 0 \n",
    "# Data type for the array is np.float64 (default) \n",
    "backgroundModel = np.zeros((1, 65), np.float64) \n",
    "foregroundModel = np.zeros((1, 65), np.float64) \n",
    "\n",
    "# define the Region of Interest (ROI) \n",
    "# as the coordinates of the rectangle \n",
    "# where the values are entered as \n",
    "# (startingPoint_x, startingPoint_y, width, height) \n",
    "# these coordinates are according to the input image \n",
    "# it may vary for different images \n",
    "rectangle = (20, 100, 150, 150) \n",
    "\n",
    "# apply the grabcut algorithm with appropriate \n",
    "# values as parameters, number of iterations = 3 \n",
    "# cv2.GC_INIT_WITH_RECT is used because \n",
    "# of the rectangle mode is used \n",
    "cv2.grabCut(image, mask, rectangle, \n",
    "\t\t\tbackgroundModel, foregroundModel, \n",
    "\t\t\t3, cv2.GC_INIT_WITH_RECT) \n",
    "\n",
    "# In the new mask image, pixels will \n",
    "# be marked with four flags \n",
    "# four flags denote the background / foreground \n",
    "# mask is changed, all the 0 and 2 pixels \n",
    "# are converted to the background \n",
    "# mask is changed, all the 1 and 3 pixels \n",
    "# are now the part of the foreground \n",
    "# the return type is also mentioned, \n",
    "# this gives us the final mask \n",
    "mask2 = np.where((mask == 2)|(mask == 0), 0, 1).astype('uint8') \n",
    "\n",
    "# The final mask is multiplied with \n",
    "# the input image to give the segmented image. \n",
    "image = image * mask2[:, :, np.newaxis] \n",
    "\n",
    "# output segmented image with colorbar \n",
    "plt.imshow(image) \n",
    "plt.colorbar() \n",
    "plt.show() \n"
   ]
  },
  {
   "cell_type": "code",
   "execution_count": null,
   "metadata": {},
   "outputs": [],
   "source": []
  },
  {
   "cell_type": "code",
   "execution_count": null,
   "metadata": {},
   "outputs": [],
   "source": []
  }
 ],
 "metadata": {
  "kernelspec": {
   "display_name": "Python 3",
   "language": "python",
   "name": "python3"
  },
  "language_info": {
   "codemirror_mode": {
    "name": "ipython",
    "version": 3
   },
   "file_extension": ".py",
   "mimetype": "text/x-python",
   "name": "python",
   "nbconvert_exporter": "python",
   "pygments_lexer": "ipython3",
   "version": "3.7.3"
  }
 },
 "nbformat": 4,
 "nbformat_minor": 2
}

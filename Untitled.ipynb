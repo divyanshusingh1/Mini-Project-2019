{
 "cells": [
  {
   "cell_type": "code",
   "execution_count": null,
   "metadata": {},
   "outputs": [],
   "source": [
    "import cv2\n",
    "\n",
    "import numpy as np\n",
    "\n",
    "\n",
    "cap = cv2.VideoCapture(0)\n",
    "\n",
    "# Define the codec and create VideoWriter object\n",
    "fourcc = cv2.VideoWriter_fourcc(*'XVID')\n",
    "out = cv2.VideoWriter(r'/home/divyanshu/Desktop/WS/divyanshu.avi',fourcc, 20.0, (640,480))\n",
    "\n",
    "while(cap.isOpened()):\n",
    "    ret, frame = cap.read()\n",
    "    if ret==True:\n",
    "        frame = cv2.flip(frame,1)\n",
    "\n",
    "        # write the flipped frame\n",
    "        out.write(frame)\n",
    "\n",
    "#        cv2.imshow('frame',frame)\n",
    "#        if cv2.waitKey(1) & 0xFF == ord('q'):\n",
    "#            break\n",
    "#    else:\n",
    "#        break\n",
    "\n",
    "# Release everything if job is finished\n",
    "cap.release()\n",
    "out.release()\n",
    "#cv2.destroyAllWindows()"
   ]
  },
  {
   "cell_type": "code",
   "execution_count": null,
   "metadata": {},
   "outputs": [],
   "source": []
  },
  {
   "cell_type": "code",
   "execution_count": 1,
   "metadata": {},
   "outputs": [],
   "source": [
    "import cv2\n",
    "# read video file\n",
    "cap = cv2.VideoCapture(r'/home/divyanshu/Desktop/hollywood/videoclips/Butterfly Effect, The - 00696.avi')\n",
    "\n",
    "# count frame\n",
    "count = 0\n",
    "\n",
    "# increment frame counter\n",
    "def getFrameNumber(count):\n",
    "\tcount = count + 1\n",
    "\treturn count\n",
    "\n",
    "while(True):\n",
    "    # Capture frame-by-frame\n",
    "\tret, frame = cap.read()\n",
    "\n",
    "\t# if frame exists\n",
    "\tif ret == True:\n",
    "\t\t# Display results\n",
    "#\t\tcv2.imshow(\"Results\", frame)\n",
    "\n",
    "\t\t# save current frame\n",
    "\t\tcv2.imwrite(r\"/home/divyanshu/Desktop/picture-output/%d.jpg\"%getFrameNumber(count), frame)\n",
    "\n",
    "\t\t# increment counter\n",
    "\t\tcount = count + 1\n",
    "\telse:\n",
    "\t\tbreak\n",
    "\n",
    "\t# ESC to stop algorithm\n",
    "#\tkey = cv2.waitKey(7) % 0x100\n",
    "#\tif key == 27:\n",
    "#\t\tbreak\n",
    "\n",
    "# Clear all windows\n",
    "#cv2.destroyAllWindows()"
   ]
  },
  {
   "cell_type": "code",
   "execution_count": null,
   "metadata": {},
   "outputs": [],
   "source": []
  },
  {
   "cell_type": "code",
   "execution_count": 2,
   "metadata": {},
   "outputs": [],
   "source": [
    "from skimage.measure import compare_ssim"
   ]
  },
  {
   "cell_type": "code",
   "execution_count": 3,
   "metadata": {},
   "outputs": [],
   "source": [
    "import cv2"
   ]
  },
  {
   "cell_type": "code",
   "execution_count": 4,
   "metadata": {},
   "outputs": [],
   "source": [
    "#image1_gray = cv2.cvtColor(img1,cv2.COLOR_BGR2GRAY)\n",
    "#image2_gray = cv2.cvtColor(img2,cv2.COLOR_BGR2GRAY)"
   ]
  },
  {
   "cell_type": "code",
   "execution_count": 5,
   "metadata": {},
   "outputs": [],
   "source": [
    "#compute ssim between two images\n",
    "#(score, diff) = compare_ssim(image1_gray, image2_gray, full=True)"
   ]
  },
  {
   "cell_type": "code",
   "execution_count": 6,
   "metadata": {},
   "outputs": [],
   "source": [
    "#print(\"Image similarity:\", score)"
   ]
  },
  {
   "cell_type": "code",
   "execution_count": 7,
   "metadata": {},
   "outputs": [],
   "source": [
    "#score"
   ]
  },
  {
   "cell_type": "code",
   "execution_count": 8,
   "metadata": {},
   "outputs": [
    {
     "name": "stdout",
     "output_type": "stream",
     "text": [
      "Image similarity of 1.jpg and 2.jpg: 0.9977967900525379\n",
      "Image similarity of 1.jpg and 3.jpg: 0.9956256924675196\n",
      "Image similarity of 1.jpg and 4.jpg: 0.9892542488582473\n",
      "Image similarity of 1.jpg and 5.jpg: 0.9780632874723304\n",
      "Image similarity of 1.jpg and 6.jpg: 0.9671251864357298\n",
      "Image similarity of 1.jpg and 7.jpg: 0.9538922358494232\n",
      "Image similarity of 1.jpg and 8.jpg: 0.9325756130425397\n",
      "Image similarity of 1.jpg and 9.jpg: 0.9264936865673608\n",
      "Image similarity of 1.jpg and 10.jpg: 0.9126192548847473\n",
      "Image similarity of 1.jpg and 11.jpg: 0.9055035687796985\n",
      "Image similarity of 1.jpg and 12.jpg: 0.8939927639252311\n",
      "Image similarity of 1.jpg and 13.jpg: 0.8832660785652957\n",
      "Image similarity of 1.jpg and 14.jpg: 0.8717899080983162\n",
      "Image similarity of 1.jpg and 15.jpg: 0.8630258756108896\n",
      "Image similarity of 1.jpg and 16.jpg: 0.8442868655710526\n",
      "Image similarity of 1.jpg and 17.jpg: 0.838637829987743\n",
      "Image similarity of 1.jpg and 18.jpg: 0.7884514430270555\n",
      "Image similarity of 1.jpg and 19.jpg: 0.17148547592998797\n",
      "Image similarity of 1.jpg and 20.jpg: 0.1703635599267724\n",
      "Image similarity of 1.jpg and 21.jpg: 0.1738546129431511\n",
      "Image similarity of 1.jpg and 22.jpg: 0.1742233199675813\n",
      "Image similarity of 1.jpg and 23.jpg: 0.1776485418861165\n",
      "Image similarity of 1.jpg and 24.jpg: 0.1789165069237432\n",
      "Image similarity of 1.jpg and 25.jpg: 0.1754043190403585\n",
      "Image similarity of 1.jpg and 26.jpg: 0.17887691842549122\n",
      "Image similarity of 1.jpg and 27.jpg: 0.17687739010681086\n",
      "Image similarity of 1.jpg and 28.jpg: 0.1805425878065811\n",
      "Image similarity of 1.jpg and 29.jpg: 0.1763226715247359\n",
      "Image similarity of 1.jpg and 30.jpg: 0.17566906084107112\n",
      "Image similarity of 1.jpg and 31.jpg: 0.17686289654625273\n",
      "Image similarity of 1.jpg and 32.jpg: 0.176364883697067\n",
      "Image similarity of 1.jpg and 33.jpg: 0.1773218388357062\n",
      "Image similarity of 1.jpg and 34.jpg: 0.17615541882589136\n",
      "Image similarity of 1.jpg and 35.jpg: 0.1741326586467578\n",
      "Image similarity of 1.jpg and 36.jpg: 0.17106393085588115\n",
      "Image similarity of 1.jpg and 37.jpg: 0.17440447898842357\n",
      "Image similarity of 1.jpg and 38.jpg: 0.1690858404143126\n",
      "Image similarity of 1.jpg and 39.jpg: 0.17102554167571554\n",
      "Image similarity of 1.jpg and 40.jpg: 0.16627230964680656\n",
      "Image similarity of 1.jpg and 41.jpg: 0.1597531117163266\n",
      "Image similarity of 1.jpg and 42.jpg: 0.15900143058608623\n",
      "Image similarity of 1.jpg and 43.jpg: 0.15950699022193107\n",
      "Image similarity of 1.jpg and 44.jpg: 0.15650505528255446\n",
      "Image similarity of 1.jpg and 45.jpg: 0.15831792735274466\n",
      "Image similarity of 1.jpg and 46.jpg: 0.15835840962989942\n",
      "Image similarity of 1.jpg and 47.jpg: 0.156921861437288\n",
      "Image similarity of 1.jpg and 48.jpg: 0.159833622450416\n",
      "Image similarity of 1.jpg and 49.jpg: 0.16248648332633994\n",
      "Image similarity of 1.jpg and 50.jpg: 0.16428386361375655\n",
      "Image similarity of 1.jpg and 51.jpg: 0.16778412332291262\n",
      "Image similarity of 1.jpg and 52.jpg: 0.1681206733665031\n",
      "Image similarity of 1.jpg and 53.jpg: 0.17039148465530882\n",
      "Image similarity of 1.jpg and 54.jpg: 0.17266768574560398\n",
      "Image similarity of 1.jpg and 55.jpg: 0.17532690889246413\n",
      "Image similarity of 1.jpg and 56.jpg: 0.17246052002508344\n",
      "Image similarity of 1.jpg and 57.jpg: 0.17461079971749913\n",
      "Image similarity of 1.jpg and 58.jpg: 0.1742819714651507\n",
      "Image similarity of 1.jpg and 59.jpg: 0.17773448570241535\n",
      "Image similarity of 1.jpg and 60.jpg: 0.17819123393159422\n",
      "Image similarity of 1.jpg and 61.jpg: 0.17999382706290343\n",
      "Image similarity of 1.jpg and 62.jpg: 0.17857323451194873\n",
      "Image similarity of 1.jpg and 63.jpg: 0.17814510018662888\n",
      "Image similarity of 1.jpg and 64.jpg: 0.1773332163074782\n",
      "Image similarity of 1.jpg and 65.jpg: 0.1779235453806742\n",
      "Image similarity of 1.jpg and 66.jpg: 0.38200147829165776\n",
      "Image similarity of 1.jpg and 67.jpg: 0.36959746113298997\n",
      "Image similarity of 1.jpg and 68.jpg: 0.3308910711129986\n",
      "Image similarity of 1.jpg and 69.jpg: 0.31561969279334656\n",
      "Image similarity of 1.jpg and 70.jpg: 0.293066498387496\n",
      "Image similarity of 1.jpg and 71.jpg: 0.2801605010060767\n",
      "Image similarity of 1.jpg and 72.jpg: 0.266615140342039\n",
      "Image similarity of 1.jpg and 73.jpg: 0.2632473172850222\n",
      "Image similarity of 1.jpg and 74.jpg: 0.249930983053139\n",
      "Image similarity of 1.jpg and 75.jpg: 0.23929948580575205\n",
      "Image similarity of 1.jpg and 76.jpg: 0.22411928067747516\n",
      "Image similarity of 1.jpg and 77.jpg: 0.2283998096207723\n",
      "Image similarity of 1.jpg and 78.jpg: 0.22324226679068773\n",
      "Image similarity of 1.jpg and 79.jpg: 0.2275299752628583\n",
      "Image similarity of 1.jpg and 80.jpg: 0.21069120433255603\n",
      "Image similarity of 1.jpg and 81.jpg: 0.2099320116095463\n",
      "Image similarity of 1.jpg and 82.jpg: 0.2083603304425827\n",
      "Image similarity of 1.jpg and 83.jpg: 0.21298013735033275\n",
      "Image similarity of 1.jpg and 84.jpg: 0.20558666416864635\n",
      "Image similarity of 1.jpg and 85.jpg: 0.21086962824136718\n",
      "Image similarity of 1.jpg and 86.jpg: 0.2068603892977853\n",
      "Image similarity of 1.jpg and 87.jpg: 0.21006322711670658\n",
      "Image similarity of 1.jpg and 88.jpg: 0.2042818695847694\n",
      "Image similarity of 1.jpg and 89.jpg: 0.2026773512527877\n",
      "Image similarity of 1.jpg and 90.jpg: 0.19011295682469137\n",
      "Image similarity of 1.jpg and 91.jpg: 0.19324013710332869\n",
      "Image similarity of 1.jpg and 92.jpg: 0.19974844127470046\n",
      "Image similarity of 1.jpg and 93.jpg: 0.20974609575503875\n",
      "Image similarity of 1.jpg and 94.jpg: 0.20369419925238075\n",
      "Image similarity of 1.jpg and 95.jpg: 0.20521482914920372\n",
      "Image similarity of 1.jpg and 96.jpg: 0.2007812167373683\n",
      "Image similarity of 1.jpg and 97.jpg: 0.20920589653406726\n",
      "Image similarity of 1.jpg and 98.jpg: 0.1992045739547018\n",
      "Image similarity of 1.jpg and 99.jpg: 0.2023834584079693\n",
      "Image similarity of 1.jpg and 100.jpg: 0.199891814064071\n",
      "Image similarity of 1.jpg and 101.jpg: 0.20371547119179403\n",
      "Image similarity of 1.jpg and 102.jpg: 0.2004369144056685\n",
      "Image similarity of 1.jpg and 103.jpg: 0.1930805887190174\n",
      "Image similarity of 1.jpg and 104.jpg: 0.1878137283203289\n",
      "Image similarity of 1.jpg and 105.jpg: 0.19288624174393978\n",
      "Image similarity of 1.jpg and 106.jpg: 0.1897292770405538\n",
      "Image similarity of 1.jpg and 107.jpg: 0.19263867938803064\n",
      "Image similarity of 1.jpg and 108.jpg: 0.18634339367218505\n",
      "Image similarity of 1.jpg and 109.jpg: 0.18787846297602975\n",
      "Image similarity of 1.jpg and 110.jpg: 0.1816667111176535\n",
      "Image similarity of 1.jpg and 111.jpg: 0.1867751857481874\n",
      "Image similarity of 1.jpg and 112.jpg: 0.18353964492204525\n",
      "Image similarity of 1.jpg and 113.jpg: 0.18690078389747597\n",
      "Image similarity of 1.jpg and 114.jpg: 0.18227368355364357\n",
      "Image similarity of 1.jpg and 115.jpg: 0.18596086134553547\n",
      "Image similarity of 1.jpg and 116.jpg: 0.17981464517001838\n",
      "Image similarity of 1.jpg and 117.jpg: 0.18385769409245853\n",
      "Image similarity of 1.jpg and 118.jpg: 0.17476052295077263\n",
      "Image similarity of 1.jpg and 119.jpg: 0.1774090720108411\n",
      "Image similarity of 1.jpg and 120.jpg: 0.1761833881059939\n",
      "Image similarity of 1.jpg and 121.jpg: 0.17879894444748262\n",
      "Image similarity of 1.jpg and 122.jpg: 0.1749559022094333\n",
      "Image similarity of 1.jpg and 123.jpg: 0.1795337751551003\n",
      "Image similarity of 1.jpg and 124.jpg: 0.1775835729805629\n",
      "Image similarity of 1.jpg and 125.jpg: 0.18061713610954577\n",
      "Image similarity of 1.jpg and 126.jpg: 0.1803911173988078\n",
      "Image similarity of 1.jpg and 127.jpg: 0.18333155487116096\n",
      "Image similarity of 1.jpg and 128.jpg: 0.18030313036876053\n",
      "Image similarity of 1.jpg and 129.jpg: 0.182314964321307\n",
      "Image similarity of 1.jpg and 130.jpg: 0.1814829635496385\n",
      "Image similarity of 1.jpg and 131.jpg: 0.18168398192984453\n",
      "Image similarity of 1.jpg and 132.jpg: 0.17830771495707168\n",
      "Image similarity of 1.jpg and 133.jpg: 0.17862806852386284\n",
      "Image similarity of 1.jpg and 134.jpg: 0.17687923053009047\n",
      "Image similarity of 1.jpg and 135.jpg: 0.18052754900141219\n",
      "Image similarity of 1.jpg and 136.jpg: 0.17958846552512572\n",
      "Image similarity of 1.jpg and 137.jpg: 0.1792775807085405\n",
      "Image similarity of 1.jpg and 138.jpg: 0.1765943045848142\n",
      "Image similarity of 1.jpg and 139.jpg: 0.17618867480640835\n",
      "Image similarity of 1.jpg and 140.jpg: 0.17399583911239005\n",
      "Image similarity of 1.jpg and 141.jpg: 0.17293782616425613\n"
     ]
    },
    {
     "ename": "ValueError",
     "evalue": "Input images must have the same dimensions.",
     "output_type": "error",
     "traceback": [
      "\u001b[0;31m---------------------------------------------------------------------------\u001b[0m",
      "\u001b[0;31mValueError\u001b[0m                                Traceback (most recent call last)",
      "\u001b[0;32m<ipython-input-8-9f79ae808a61>\u001b[0m in \u001b[0;36m<module>\u001b[0;34m\u001b[0m\n\u001b[1;32m      9\u001b[0m             \u001b[0mimage1_gray\u001b[0m \u001b[0;34m=\u001b[0m \u001b[0mcv2\u001b[0m\u001b[0;34m.\u001b[0m\u001b[0mcvtColor\u001b[0m\u001b[0;34m(\u001b[0m\u001b[0mimg1\u001b[0m\u001b[0;34m,\u001b[0m\u001b[0mcv2\u001b[0m\u001b[0;34m.\u001b[0m\u001b[0mCOLOR_BGR2GRAY\u001b[0m\u001b[0;34m)\u001b[0m\u001b[0;34m\u001b[0m\u001b[0;34m\u001b[0m\u001b[0m\n\u001b[1;32m     10\u001b[0m             \u001b[0mimage2_gray\u001b[0m \u001b[0;34m=\u001b[0m \u001b[0mcv2\u001b[0m\u001b[0;34m.\u001b[0m\u001b[0mcvtColor\u001b[0m\u001b[0;34m(\u001b[0m\u001b[0mimg2\u001b[0m\u001b[0;34m,\u001b[0m\u001b[0mcv2\u001b[0m\u001b[0;34m.\u001b[0m\u001b[0mCOLOR_BGR2GRAY\u001b[0m\u001b[0;34m)\u001b[0m\u001b[0;34m\u001b[0m\u001b[0;34m\u001b[0m\u001b[0m\n\u001b[0;32m---> 11\u001b[0;31m             \u001b[0;34m(\u001b[0m\u001b[0mscore\u001b[0m\u001b[0;34m,\u001b[0m \u001b[0mdiff\u001b[0m\u001b[0;34m)\u001b[0m \u001b[0;34m=\u001b[0m \u001b[0mcompare_ssim\u001b[0m\u001b[0;34m(\u001b[0m\u001b[0mimage1_gray\u001b[0m\u001b[0;34m,\u001b[0m \u001b[0mimage2_gray\u001b[0m\u001b[0;34m,\u001b[0m \u001b[0mfull\u001b[0m\u001b[0;34m=\u001b[0m\u001b[0;32mTrue\u001b[0m\u001b[0;34m)\u001b[0m\u001b[0;34m\u001b[0m\u001b[0;34m\u001b[0m\u001b[0m\n\u001b[0m\u001b[1;32m     12\u001b[0m             \u001b[0mprint\u001b[0m\u001b[0;34m(\u001b[0m\u001b[0;34m\"Image similarity of \"\u001b[0m\u001b[0;34m+\u001b[0m\u001b[0mstr\u001b[0m\u001b[0;34m(\u001b[0m\u001b[0mi\u001b[0m\u001b[0;34m)\u001b[0m\u001b[0;34m+\u001b[0m\u001b[0;34m\".jpg and \"\u001b[0m\u001b[0;34m+\u001b[0m\u001b[0mstr\u001b[0m\u001b[0;34m(\u001b[0m\u001b[0mj\u001b[0m\u001b[0;34m)\u001b[0m\u001b[0;34m+\u001b[0m\u001b[0;34m\".jpg: \"\u001b[0m \u001b[0;34m+\u001b[0m \u001b[0mstr\u001b[0m\u001b[0;34m(\u001b[0m\u001b[0mscore\u001b[0m\u001b[0;34m)\u001b[0m\u001b[0;34m)\u001b[0m\u001b[0;34m\u001b[0m\u001b[0;34m\u001b[0m\u001b[0m\n",
      "\u001b[0;32m~/anaconda3/lib/python3.7/site-packages/skimage/measure/_structural_similarity.py\u001b[0m in \u001b[0;36mcompare_ssim\u001b[0;34m(X, Y, win_size, gradient, data_range, multichannel, gaussian_weights, full, **kwargs)\u001b[0m\n\u001b[1;32m     82\u001b[0m     \"\"\"\n\u001b[1;32m     83\u001b[0m     \u001b[0;32mif\u001b[0m \u001b[0;32mnot\u001b[0m \u001b[0mX\u001b[0m\u001b[0;34m.\u001b[0m\u001b[0mshape\u001b[0m \u001b[0;34m==\u001b[0m \u001b[0mY\u001b[0m\u001b[0;34m.\u001b[0m\u001b[0mshape\u001b[0m\u001b[0;34m:\u001b[0m\u001b[0;34m\u001b[0m\u001b[0;34m\u001b[0m\u001b[0m\n\u001b[0;32m---> 84\u001b[0;31m         \u001b[0;32mraise\u001b[0m \u001b[0mValueError\u001b[0m\u001b[0;34m(\u001b[0m\u001b[0;34m'Input images must have the same dimensions.'\u001b[0m\u001b[0;34m)\u001b[0m\u001b[0;34m\u001b[0m\u001b[0;34m\u001b[0m\u001b[0m\n\u001b[0m\u001b[1;32m     85\u001b[0m \u001b[0;34m\u001b[0m\u001b[0m\n\u001b[1;32m     86\u001b[0m     \u001b[0;32mif\u001b[0m \u001b[0mmultichannel\u001b[0m\u001b[0;34m:\u001b[0m\u001b[0;34m\u001b[0m\u001b[0;34m\u001b[0m\u001b[0m\n",
      "\u001b[0;31mValueError\u001b[0m: Input images must have the same dimensions."
     ]
    }
   ],
   "source": [
    "start = 1\n",
    "end = 728\n",
    "\n",
    "for i in range(1,2):\n",
    "    for j in range(start, end+1):\n",
    "        if i != j:\n",
    "            img1 = cv2.imread(r\"/home/divyanshu/Desktop/picture-output/%d.jpg\"%i)\n",
    "            img2 = cv2.imread(r\"/home/divyanshu/Desktop/picture-output/%d.jpg\"%j)\n",
    "            image1_gray = cv2.cvtColor(img1,cv2.COLOR_BGR2GRAY)\n",
    "            image2_gray = cv2.cvtColor(img2,cv2.COLOR_BGR2GRAY)\n",
    "            (score, diff) = compare_ssim(image1_gray, image2_gray, full=True)\n",
    "            print(\"Image similarity of \"+str(i)+\".jpg and \"+str(j)+\".jpg: \" + str(score))"
   ]
  },
  {
   "cell_type": "code",
   "execution_count": 9,
   "metadata": {},
   "outputs": [],
   "source": [
    "diff = (diff*255).astype(\"uint8\")"
   ]
  },
  {
   "cell_type": "code",
   "execution_count": 12,
   "metadata": {},
   "outputs": [
    {
     "data": {
      "text/plain": [
       "True"
      ]
     },
     "execution_count": 12,
     "metadata": {},
     "output_type": "execute_result"
    }
   ],
   "source": [
    "#cv2.imshow('diff', diff)\n",
    "cv2.imwrite(r\"/home/divyanshu/Desktop/picture-output/result6.jpg\",diff)"
   ]
  },
  {
   "cell_type": "code",
   "execution_count": null,
   "metadata": {},
   "outputs": [],
   "source": [
    "cv2.waitKey()"
   ]
  },
  {
   "cell_type": "code",
   "execution_count": null,
   "metadata": {},
   "outputs": [],
   "source": []
  }
 ],
 "metadata": {
  "kernelspec": {
   "display_name": "Python 3",
   "language": "python",
   "name": "python3"
  },
  "language_info": {
   "codemirror_mode": {
    "name": "ipython",
    "version": 3
   },
   "file_extension": ".py",
   "mimetype": "text/x-python",
   "name": "python",
   "nbconvert_exporter": "python",
   "pygments_lexer": "ipython3",
   "version": "3.7.3"
  }
 },
 "nbformat": 4,
 "nbformat_minor": 2
}
